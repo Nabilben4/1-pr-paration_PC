{
 "cells": [
  {
   "cell_type": "code",
   "execution_count": 8,
   "id": "1d7d3b6d",
   "metadata": {},
   "outputs": [
    {
     "name": "stdout",
     "output_type": "stream",
     "text": [
      "\u001b[34mConnecting to --port=/dev/ttyUSB0 --baud=115200 \u001b[0m\n",
      "\u001b[34mReady.\n",
      "\u001b[0m"
     ]
    }
   ],
   "source": [
    "%serialconnect --port=/dev/ttyUSB0 --baud=115200  #connexion série avec ESP32"
   ]
  },
  {
   "cell_type": "code",
   "execution_count": 9,
   "id": "1ba99c97",
   "metadata": {},
   "outputs": [
    {
     "name": "stdout",
     "output_type": "stream",
     "text": [
      "avant:  ['boot.py', 'mqtt_as.py']\n",
      "apres:  ['boot.py', 'mqtt_as.py']\n"
     ]
    }
   ],
   "source": [
    "import os\n",
    "print(\"avant: \",os.listdir(\"\"))  # affichage de la liste des fichiers contenu dans la mémoire de ESP32\n",
    "#os.remove('main.py')  # efface le fichier \"main.py\"\n",
    "print(\"apres: \",os.listdir(\"\")) # affichage de la liste des fichiers après "
   ]
  },
  {
   "cell_type": "code",
   "execution_count": 6,
   "id": "b2750ec4",
   "metadata": {},
   "outputs": [
    {
     "name": "stdout",
     "output_type": "stream",
     "text": [
      "Sent 647 lines (23171 bytes) to mqtt_as.py.\n"
     ]
    }
   ],
   "source": [
    "%sendtofile --source mqtt_as.py"
   ]
  },
  {
   "cell_type": "code",
   "execution_count": null,
   "id": "e5533fbe",
   "metadata": {},
   "outputs": [
    {
     "name": "stdout",
     "output_type": "stream",
     "text": [
      ".Checking WiFi integrity.\n",
      ".Got reliable connection\n",
      "Connecting to broker.\n",
      "Connected to broker.\n",
      "....RAM free 93744 alloc 17424\n",
      "....RAM free 93744 alloc 17424\n",
      "....RAM free 93744 alloc 17424\n",
      "....RAM free 93744 alloc 17424\n",
      "....RAM free 93744 alloc 17424\n",
      "i1 =  62\n",
      "i1 =  28\n",
      ".i1 =  108\n",
      "..RAM free 93744 alloc 17424\n",
      ".i1 =  65\n",
      "i1 =  38\n",
      ".i1 =  9\n",
      "i1 =  111\n",
      ".i1 =  118\n",
      "i1 =  28\n",
      ".RAM free 93744 alloc 17424\n",
      "....RAM free 93744 alloc 17424\n",
      "....RAM free 93744 alloc 17424\n",
      "....RAM free 93744 alloc 17424\n",
      "....RAM free 93744 alloc 17424\n",
      "....RAM free 93744 alloc 17424\n",
      "....RAM free 93744 alloc 17424\n",
      "....RAM free 93744 alloc 17424\n",
      "....RAM free 93744 alloc 17424\n",
      "....RAM free 93744 alloc 17424\n",
      "....RAM free 93744 alloc 17424\n",
      ".."
     ]
    }
   ],
   "source": [
    "from mqtt_as import MQTTClient, config #importation des class MQTTClient et config du module mqtt_as\n",
    "from machine import Pin, PWM #importation de la classe Pin du module machine\n",
    "from time import sleep\n",
    "import uasyncio#importation du module uasyncio\n",
    "\n",
    "#configuration des connections\n",
    "config['server'] = \"test.mosquitto.org\"#hostname du  broker\n",
    "config['ssid'] = \"freenab\"#configuration wifi\n",
    "config['wifi_pw'] = \"ZimDid2023\"#mot de passe\n",
    "\n",
    "servo = PWM(Pin(12), freq=50)\n",
    "\n",
    "def callback(topic, msg, retained):        \n",
    "    if topic == b'test/servo': \n",
    "        i1=msg.decode(\"utf-8\")        \n",
    "        i1=int(i1)\n",
    "        print(\"i1 = \",i1)\n",
    "        servo.duty(i1)    \n",
    "        \n",
    "async def conn_han(client):\n",
    "    await client.subscribe('test/servo', 0)\n",
    "    \n",
    "#programme principal  \n",
    "async def main(client):\n",
    "    await client.connect() #connection du client au broker en wifi\n",
    "    while True:\n",
    "        await uasyncio.sleep(1)\n",
    "\n",
    "#configuration pour la gestion des publications et souscriptions\n",
    "config['subs_cb'] = callback\n",
    "config['connect_coro'] = conn_han\n",
    "\n",
    "MQTTClient.DEBUG = True # affichage des messages de diagnostic\n",
    "client = MQTTClient(config) #création de l'objet client par instanciation de la classe MQTTClient()\n",
    "\n",
    "try:\n",
    "    uasyncio.run(main(client)) #mise en route du programme principal \n",
    "finally:\n",
    "    client.close()\n"
   ]
  },
  {
   "cell_type": "code",
   "execution_count": null,
   "id": "bd92c8d4",
   "metadata": {},
   "outputs": [],
   "source": []
  }
 ],
 "metadata": {
  "kernelspec": {
   "display_name": "MicroPython - USB",
   "language": "micropython",
   "name": "micropython"
  },
  "language_info": {
   "codemirror_mode": "python",
   "file_extension": ".py",
   "mimetype": "text/python",
   "name": "micropython"
  }
 },
 "nbformat": 4,
 "nbformat_minor": 5
}
